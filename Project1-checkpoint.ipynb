{
 "cells": [
  {
   "cell_type": "markdown",
   "id": "858be412-0815-46bd-a4f4-6482b9d7b15f",
   "metadata": {},
   "source": [
    "# (1) Problem definition"
   ]
  },
  {
   "cell_type": "markdown",
   "id": "87b96912-5be3-41a6-8059-bead85177994",
   "metadata": {},
   "source": [
    "# (2) Data acquisition"
   ]
  },
  {
   "cell_type": "code",
   "execution_count": 1,
   "id": "222888f0-a22e-4b63-a632-3e2ca7fc6a07",
   "metadata": {},
   "outputs": [],
   "source": [
    "# import the required packages\n",
    "\n",
    "import pandas as pd\n",
    "import numpy as np\n",
    "\n",
    "import matplotlib.pyplot as plt \n",
    "import seaborn as sns\n",
    "import plotly.express as px\n",
    "\n",
    "from sklearn.linear_model import LinearRegression\n",
    "from sklearn.preprocessing import StandardScaler, MinMaxScaler\n",
    "from sklearn.preprocessing import LabelEncoder, OneHotEncoder\n",
    "\n",
    "\n",
    "import warnings\n",
    "warnings.filterwarnings(\"ignore\")"
   ]
  },
  {
   "cell_type": "code",
   "execution_count": 2,
   "id": "95faec82-e667-4fd0-972b-c46003d8e777",
   "metadata": {},
   "outputs": [],
   "source": [
    "# Load the dataset\n",
    "df1 = pd.read_csv(\"Car_sales_transactions.csv\")\n",
    "df2 = pd.read_excel(\"City_Master.xlsx\")\n",
    "\n",
    "df3 = pd.read_excel(\"Postal_Code_Master.xlsx\")\n",
    "df4 = pd.read_excel(\"Region_Master.xlsx\")\n",
    "df5 = pd.read_excel(\"Region_State_Mapping.xlsx\")\n",
    "df6 = pd.read_csv(\"Sales_Status.csv\")\n",
    "df7 = pd.read_excel(\"State_Master.xlsx\")\n"
   ]
  },
  {
   "cell_type": "markdown",
   "id": "753792e4-2244-4cf5-8b89-d16a04dc741d",
   "metadata": {},
   "source": [
    "# Data Exploration"
   ]
  },
  {
   "cell_type": "code",
   "execution_count": 4,
   "id": "2e362a99-159c-4831-a568-384adc692220",
   "metadata": {},
   "outputs": [
    {
     "data": {
      "text/html": [
       "<div>\n",
       "<style scoped>\n",
       "    .dataframe tbody tr th:only-of-type {\n",
       "        vertical-align: middle;\n",
       "    }\n",
       "\n",
       "    .dataframe tbody tr th {\n",
       "        vertical-align: top;\n",
       "    }\n",
       "\n",
       "    .dataframe thead th {\n",
       "        text-align: right;\n",
       "    }\n",
       "</style>\n",
       "<table border=\"1\" class=\"dataframe\">\n",
       "  <thead>\n",
       "    <tr style=\"text-align: right;\">\n",
       "      <th></th>\n",
       "      <th>Sales_ID</th>\n",
       "      <th>Name</th>\n",
       "      <th>Year</th>\n",
       "      <th>Selling_Price</th>\n",
       "      <th>km_Driven</th>\n",
       "      <th>City_Code</th>\n",
       "      <th>State_Code</th>\n",
       "      <th>Postal_Code</th>\n",
       "      <th>Fuel</th>\n",
       "      <th>Seller_Type</th>\n",
       "      <th>Transmission</th>\n",
       "      <th>Owner</th>\n",
       "      <th>Mileage</th>\n",
       "      <th>Engine</th>\n",
       "      <th>Max_Power</th>\n",
       "      <th>Seats</th>\n",
       "    </tr>\n",
       "  </thead>\n",
       "  <tbody>\n",
       "    <tr>\n",
       "      <th>0</th>\n",
       "      <td>1</td>\n",
       "      <td>Maruti Swift Dzire VDI</td>\n",
       "      <td>2014</td>\n",
       "      <td>450000</td>\n",
       "      <td>145500</td>\n",
       "      <td>CT01</td>\n",
       "      <td>ST15</td>\n",
       "      <td>400001</td>\n",
       "      <td>Diesel</td>\n",
       "      <td>Individual</td>\n",
       "      <td>Manual</td>\n",
       "      <td>First Owner</td>\n",
       "      <td>23.4 kmpl</td>\n",
       "      <td>1248 CC</td>\n",
       "      <td>74 bhp</td>\n",
       "      <td>5</td>\n",
       "    </tr>\n",
       "    <tr>\n",
       "      <th>1</th>\n",
       "      <td>2</td>\n",
       "      <td>Skoda Rapid 1.5 TDI Ambition</td>\n",
       "      <td>2014</td>\n",
       "      <td>370000</td>\n",
       "      <td>120000</td>\n",
       "      <td>CT28</td>\n",
       "      <td>ST11</td>\n",
       "      <td>834001</td>\n",
       "      <td>Diesel</td>\n",
       "      <td>Individual</td>\n",
       "      <td>Manual</td>\n",
       "      <td>Second Owner</td>\n",
       "      <td>21.14 kmpl</td>\n",
       "      <td>1498 CC</td>\n",
       "      <td>103.52 bhp</td>\n",
       "      <td>5</td>\n",
       "    </tr>\n",
       "    <tr>\n",
       "      <th>2</th>\n",
       "      <td>3</td>\n",
       "      <td>Honda City 2017-2020 EXi</td>\n",
       "      <td>2006</td>\n",
       "      <td>158000</td>\n",
       "      <td>140000</td>\n",
       "      <td>CT12</td>\n",
       "      <td>ST28</td>\n",
       "      <td>201301</td>\n",
       "      <td>Petrol</td>\n",
       "      <td>Individual</td>\n",
       "      <td>Manual</td>\n",
       "      <td>Third Owner</td>\n",
       "      <td>17.7 kmpl</td>\n",
       "      <td>1497 CC</td>\n",
       "      <td>78 bhp</td>\n",
       "      <td>5</td>\n",
       "    </tr>\n",
       "    <tr>\n",
       "      <th>3</th>\n",
       "      <td>4</td>\n",
       "      <td>Hyundai i20 Sportz Diesel</td>\n",
       "      <td>2010</td>\n",
       "      <td>225000</td>\n",
       "      <td>127000</td>\n",
       "      <td>CT21</td>\n",
       "      <td>ST27</td>\n",
       "      <td>248001</td>\n",
       "      <td>Diesel</td>\n",
       "      <td>Individual</td>\n",
       "      <td>Manual</td>\n",
       "      <td>First Owner</td>\n",
       "      <td>23.0 kmpl</td>\n",
       "      <td>1396 CC</td>\n",
       "      <td>90 bhp</td>\n",
       "      <td>5</td>\n",
       "    </tr>\n",
       "    <tr>\n",
       "      <th>4</th>\n",
       "      <td>5</td>\n",
       "      <td>Maruti Swift VXI BSIII</td>\n",
       "      <td>2007</td>\n",
       "      <td>130000</td>\n",
       "      <td>120000</td>\n",
       "      <td>CT03</td>\n",
       "      <td>ST24</td>\n",
       "      <td>600020</td>\n",
       "      <td>Petrol</td>\n",
       "      <td>Individual</td>\n",
       "      <td>Manual</td>\n",
       "      <td>First Owner</td>\n",
       "      <td>16.1 kmpl</td>\n",
       "      <td>1298 CC</td>\n",
       "      <td>88.2 bhp</td>\n",
       "      <td>5</td>\n",
       "    </tr>\n",
       "  </tbody>\n",
       "</table>\n",
       "</div>"
      ],
      "text/plain": [
       "   Sales_ID                          Name  Year  Selling_Price  km_Driven  \\\n",
       "0         1        Maruti Swift Dzire VDI  2014         450000     145500   \n",
       "1         2  Skoda Rapid 1.5 TDI Ambition  2014         370000     120000   \n",
       "2         3      Honda City 2017-2020 EXi  2006         158000     140000   \n",
       "3         4     Hyundai i20 Sportz Diesel  2010         225000     127000   \n",
       "4         5        Maruti Swift VXI BSIII  2007         130000     120000   \n",
       "\n",
       "  City_Code State_Code  Postal_Code    Fuel Seller_Type Transmission  \\\n",
       "0      CT01       ST15       400001  Diesel  Individual       Manual   \n",
       "1      CT28       ST11       834001  Diesel  Individual       Manual   \n",
       "2      CT12       ST28       201301  Petrol  Individual       Manual   \n",
       "3      CT21       ST27       248001  Diesel  Individual       Manual   \n",
       "4      CT03       ST24       600020  Petrol  Individual       Manual   \n",
       "\n",
       "          Owner     Mileage   Engine   Max_Power  Seats  \n",
       "0   First Owner   23.4 kmpl  1248 CC      74 bhp      5  \n",
       "1  Second Owner  21.14 kmpl  1498 CC  103.52 bhp      5  \n",
       "2   Third Owner   17.7 kmpl  1497 CC      78 bhp      5  \n",
       "3   First Owner   23.0 kmpl  1396 CC      90 bhp      5  \n",
       "4   First Owner   16.1 kmpl  1298 CC    88.2 bhp      5  "
      ]
     },
     "execution_count": 4,
     "metadata": {},
     "output_type": "execute_result"
    }
   ],
   "source": [
    "df1.head()"
   ]
  },
  {
   "cell_type": "code",
   "execution_count": 5,
   "id": "9403ed12-dbdf-43b6-be8a-bd76e5b39ec1",
   "metadata": {},
   "outputs": [
    {
     "name": "stdout",
     "output_type": "stream",
     "text": [
      "<class 'pandas.core.frame.DataFrame'>\n",
      "RangeIndex: 7906 entries, 0 to 7905\n",
      "Data columns (total 16 columns):\n",
      " #   Column         Non-Null Count  Dtype \n",
      "---  ------         --------------  ----- \n",
      " 0   Sales_ID       7906 non-null   int64 \n",
      " 1   Name           7906 non-null   object\n",
      " 2   Year           7906 non-null   int64 \n",
      " 3   Selling_Price  7906 non-null   int64 \n",
      " 4   km_Driven      7906 non-null   int64 \n",
      " 5   City_Code      7906 non-null   object\n",
      " 6   State_Code     7906 non-null   object\n",
      " 7   Postal_Code    7906 non-null   int64 \n",
      " 8   Fuel           7906 non-null   object\n",
      " 9   Seller_Type    7906 non-null   object\n",
      " 10  Transmission   7906 non-null   object\n",
      " 11  Owner          7906 non-null   object\n",
      " 12  Mileage        7906 non-null   object\n",
      " 13  Engine         7906 non-null   object\n",
      " 14  Max_Power      7906 non-null   object\n",
      " 15  Seats          7906 non-null   int64 \n",
      "dtypes: int64(6), object(10)\n",
      "memory usage: 988.4+ KB\n"
     ]
    }
   ],
   "source": [
    "df1.info()"
   ]
  },
  {
   "cell_type": "code",
   "execution_count": 6,
   "id": "ae6ddfc8-6ad5-41c2-bfc6-80dfe1779039",
   "metadata": {},
   "outputs": [
    {
     "data": {
      "text/html": [
       "<div>\n",
       "<style scoped>\n",
       "    .dataframe tbody tr th:only-of-type {\n",
       "        vertical-align: middle;\n",
       "    }\n",
       "\n",
       "    .dataframe tbody tr th {\n",
       "        vertical-align: top;\n",
       "    }\n",
       "\n",
       "    .dataframe thead th {\n",
       "        text-align: right;\n",
       "    }\n",
       "</style>\n",
       "<table border=\"1\" class=\"dataframe\">\n",
       "  <thead>\n",
       "    <tr style=\"text-align: right;\">\n",
       "      <th></th>\n",
       "      <th>Sales_ID</th>\n",
       "      <th>Year</th>\n",
       "      <th>Selling_Price</th>\n",
       "      <th>km_Driven</th>\n",
       "      <th>Postal_Code</th>\n",
       "      <th>Seats</th>\n",
       "    </tr>\n",
       "  </thead>\n",
       "  <tbody>\n",
       "    <tr>\n",
       "      <th>count</th>\n",
       "      <td>7906.000000</td>\n",
       "      <td>7906.000000</td>\n",
       "      <td>7.906000e+03</td>\n",
       "      <td>7.906000e+03</td>\n",
       "      <td>7906.000000</td>\n",
       "      <td>7906.000000</td>\n",
       "    </tr>\n",
       "    <tr>\n",
       "      <th>mean</th>\n",
       "      <td>4070.106248</td>\n",
       "      <td>2013.983936</td>\n",
       "      <td>6.498137e+05</td>\n",
       "      <td>6.918866e+04</td>\n",
       "      <td>503562.180116</td>\n",
       "      <td>5.416393</td>\n",
       "    </tr>\n",
       "    <tr>\n",
       "      <th>std</th>\n",
       "      <td>2345.770159</td>\n",
       "      <td>3.863695</td>\n",
       "      <td>8.135827e+05</td>\n",
       "      <td>5.679230e+04</td>\n",
       "      <td>204939.677172</td>\n",
       "      <td>0.959208</td>\n",
       "    </tr>\n",
       "    <tr>\n",
       "      <th>min</th>\n",
       "      <td>1.000000</td>\n",
       "      <td>1994.000000</td>\n",
       "      <td>2.999900e+04</td>\n",
       "      <td>1.000000e+00</td>\n",
       "      <td>110001.000000</td>\n",
       "      <td>2.000000</td>\n",
       "    </tr>\n",
       "    <tr>\n",
       "      <th>25%</th>\n",
       "      <td>2037.250000</td>\n",
       "      <td>2012.000000</td>\n",
       "      <td>2.700000e+05</td>\n",
       "      <td>3.500000e+04</td>\n",
       "      <td>391510.000000</td>\n",
       "      <td>5.000000</td>\n",
       "    </tr>\n",
       "    <tr>\n",
       "      <th>50%</th>\n",
       "      <td>4076.500000</td>\n",
       "      <td>2015.000000</td>\n",
       "      <td>4.500000e+05</td>\n",
       "      <td>6.000000e+04</td>\n",
       "      <td>524225.000000</td>\n",
       "      <td>5.000000</td>\n",
       "    </tr>\n",
       "    <tr>\n",
       "      <th>75%</th>\n",
       "      <td>6102.000000</td>\n",
       "      <td>2017.000000</td>\n",
       "      <td>6.900000e+05</td>\n",
       "      <td>9.542500e+04</td>\n",
       "      <td>680001.000000</td>\n",
       "      <td>5.000000</td>\n",
       "    </tr>\n",
       "    <tr>\n",
       "      <th>max</th>\n",
       "      <td>8128.000000</td>\n",
       "      <td>2020.000000</td>\n",
       "      <td>1.000000e+07</td>\n",
       "      <td>2.360457e+06</td>\n",
       "      <td>834001.000000</td>\n",
       "      <td>14.000000</td>\n",
       "    </tr>\n",
       "  </tbody>\n",
       "</table>\n",
       "</div>"
      ],
      "text/plain": [
       "          Sales_ID         Year  Selling_Price     km_Driven    Postal_Code  \\\n",
       "count  7906.000000  7906.000000   7.906000e+03  7.906000e+03    7906.000000   \n",
       "mean   4070.106248  2013.983936   6.498137e+05  6.918866e+04  503562.180116   \n",
       "std    2345.770159     3.863695   8.135827e+05  5.679230e+04  204939.677172   \n",
       "min       1.000000  1994.000000   2.999900e+04  1.000000e+00  110001.000000   \n",
       "25%    2037.250000  2012.000000   2.700000e+05  3.500000e+04  391510.000000   \n",
       "50%    4076.500000  2015.000000   4.500000e+05  6.000000e+04  524225.000000   \n",
       "75%    6102.000000  2017.000000   6.900000e+05  9.542500e+04  680001.000000   \n",
       "max    8128.000000  2020.000000   1.000000e+07  2.360457e+06  834001.000000   \n",
       "\n",
       "             Seats  \n",
       "count  7906.000000  \n",
       "mean      5.416393  \n",
       "std       0.959208  \n",
       "min       2.000000  \n",
       "25%       5.000000  \n",
       "50%       5.000000  \n",
       "75%       5.000000  \n",
       "max      14.000000  "
      ]
     },
     "execution_count": 6,
     "metadata": {},
     "output_type": "execute_result"
    }
   ],
   "source": [
    "df1.describe()"
   ]
  },
  {
   "cell_type": "code",
   "execution_count": 7,
   "id": "5ba2faf1-a926-4eb6-8add-92e5036bc1c1",
   "metadata": {},
   "outputs": [
    {
     "data": {
      "text/plain": [
       "(7906, 16)"
      ]
     },
     "execution_count": 7,
     "metadata": {},
     "output_type": "execute_result"
    }
   ],
   "source": [
    "df1.shape"
   ]
  },
  {
   "cell_type": "code",
   "execution_count": null,
   "id": "cd606f26-4903-4c44-939f-da3fe4516a83",
   "metadata": {},
   "outputs": [],
   "source": []
  },
  {
   "cell_type": "code",
   "execution_count": 9,
   "id": "8bf25d83-6199-45b6-915a-4ba49a5706e4",
   "metadata": {},
   "outputs": [
    {
     "data": {
      "text/html": [
       "<div>\n",
       "<style scoped>\n",
       "    .dataframe tbody tr th:only-of-type {\n",
       "        vertical-align: middle;\n",
       "    }\n",
       "\n",
       "    .dataframe tbody tr th {\n",
       "        vertical-align: top;\n",
       "    }\n",
       "\n",
       "    .dataframe thead th {\n",
       "        text-align: right;\n",
       "    }\n",
       "</style>\n",
       "<table border=\"1\" class=\"dataframe\">\n",
       "  <thead>\n",
       "    <tr style=\"text-align: right;\">\n",
       "      <th></th>\n",
       "      <th>City_Code</th>\n",
       "      <th>City_Name</th>\n",
       "      <th>State_Code</th>\n",
       "    </tr>\n",
       "  </thead>\n",
       "  <tbody>\n",
       "    <tr>\n",
       "      <th>0</th>\n",
       "      <td>CT01</td>\n",
       "      <td>Mumbai</td>\n",
       "      <td>ST15</td>\n",
       "    </tr>\n",
       "    <tr>\n",
       "      <th>1</th>\n",
       "      <td>CT02</td>\n",
       "      <td>Pune</td>\n",
       "      <td>ST15</td>\n",
       "    </tr>\n",
       "    <tr>\n",
       "      <th>2</th>\n",
       "      <td>CT03</td>\n",
       "      <td>Chennai</td>\n",
       "      <td>ST24</td>\n",
       "    </tr>\n",
       "    <tr>\n",
       "      <th>3</th>\n",
       "      <td>CT04</td>\n",
       "      <td>Coimbatore</td>\n",
       "      <td>ST24</td>\n",
       "    </tr>\n",
       "    <tr>\n",
       "      <th>4</th>\n",
       "      <td>CT05</td>\n",
       "      <td>Hyderabad</td>\n",
       "      <td>ST25</td>\n",
       "    </tr>\n",
       "  </tbody>\n",
       "</table>\n",
       "</div>"
      ],
      "text/plain": [
       "  City_Code   City_Name State_Code\n",
       "0      CT01      Mumbai       ST15\n",
       "1      CT02        Pune       ST15\n",
       "2      CT03     Chennai       ST24\n",
       "3      CT04  Coimbatore       ST24\n",
       "4      CT05   Hyderabad       ST25"
      ]
     },
     "execution_count": 9,
     "metadata": {},
     "output_type": "execute_result"
    }
   ],
   "source": [
    "df2.head()"
   ]
  },
  {
   "cell_type": "code",
   "execution_count": 10,
   "id": "6fbb7500-9340-4364-8118-86c2297a7b28",
   "metadata": {},
   "outputs": [
    {
     "name": "stdout",
     "output_type": "stream",
     "text": [
      "<class 'pandas.core.frame.DataFrame'>\n",
      "RangeIndex: 29 entries, 0 to 28\n",
      "Data columns (total 3 columns):\n",
      " #   Column      Non-Null Count  Dtype \n",
      "---  ------      --------------  ----- \n",
      " 0   City_Code   29 non-null     object\n",
      " 1   City_Name   29 non-null     object\n",
      " 2   State_Code  29 non-null     object\n",
      "dtypes: object(3)\n",
      "memory usage: 828.0+ bytes\n"
     ]
    }
   ],
   "source": [
    "df2.info()"
   ]
  },
  {
   "cell_type": "code",
   "execution_count": 11,
   "id": "0bdbca9a-f5e0-480e-83a9-cb3bfbb3b5a8",
   "metadata": {},
   "outputs": [
    {
     "data": {
      "text/html": [
       "<div>\n",
       "<style scoped>\n",
       "    .dataframe tbody tr th:only-of-type {\n",
       "        vertical-align: middle;\n",
       "    }\n",
       "\n",
       "    .dataframe tbody tr th {\n",
       "        vertical-align: top;\n",
       "    }\n",
       "\n",
       "    .dataframe thead th {\n",
       "        text-align: right;\n",
       "    }\n",
       "</style>\n",
       "<table border=\"1\" class=\"dataframe\">\n",
       "  <thead>\n",
       "    <tr style=\"text-align: right;\">\n",
       "      <th></th>\n",
       "      <th>City_Code</th>\n",
       "      <th>City_Name</th>\n",
       "      <th>State_Code</th>\n",
       "    </tr>\n",
       "  </thead>\n",
       "  <tbody>\n",
       "    <tr>\n",
       "      <th>count</th>\n",
       "      <td>29</td>\n",
       "      <td>29</td>\n",
       "      <td>29</td>\n",
       "    </tr>\n",
       "    <tr>\n",
       "      <th>unique</th>\n",
       "      <td>29</td>\n",
       "      <td>29</td>\n",
       "      <td>18</td>\n",
       "    </tr>\n",
       "    <tr>\n",
       "      <th>top</th>\n",
       "      <td>CT01</td>\n",
       "      <td>Mumbai</td>\n",
       "      <td>ST15</td>\n",
       "    </tr>\n",
       "    <tr>\n",
       "      <th>freq</th>\n",
       "      <td>1</td>\n",
       "      <td>1</td>\n",
       "      <td>3</td>\n",
       "    </tr>\n",
       "  </tbody>\n",
       "</table>\n",
       "</div>"
      ],
      "text/plain": [
       "       City_Code City_Name State_Code\n",
       "count         29        29         29\n",
       "unique        29        29         18\n",
       "top         CT01    Mumbai       ST15\n",
       "freq           1         1          3"
      ]
     },
     "execution_count": 11,
     "metadata": {},
     "output_type": "execute_result"
    }
   ],
   "source": [
    "df2.describe()"
   ]
  },
  {
   "cell_type": "code",
   "execution_count": 12,
   "id": "ee667e85-d748-4a12-a881-e0d635202552",
   "metadata": {},
   "outputs": [
    {
     "data": {
      "text/plain": [
       "(29, 3)"
      ]
     },
     "execution_count": 12,
     "metadata": {},
     "output_type": "execute_result"
    }
   ],
   "source": [
    "df2.shape"
   ]
  },
  {
   "cell_type": "code",
   "execution_count": 14,
   "id": "a1128390-d52e-4f5e-832b-5f671805fb90",
   "metadata": {},
   "outputs": [
    {
     "data": {
      "text/html": [
       "<div>\n",
       "<style scoped>\n",
       "    .dataframe tbody tr th:only-of-type {\n",
       "        vertical-align: middle;\n",
       "    }\n",
       "\n",
       "    .dataframe tbody tr th {\n",
       "        vertical-align: top;\n",
       "    }\n",
       "\n",
       "    .dataframe thead th {\n",
       "        text-align: right;\n",
       "    }\n",
       "</style>\n",
       "<table border=\"1\" class=\"dataframe\">\n",
       "  <thead>\n",
       "    <tr style=\"text-align: right;\">\n",
       "      <th></th>\n",
       "      <th>Postal_Code</th>\n",
       "      <th>City_Code</th>\n",
       "    </tr>\n",
       "  </thead>\n",
       "  <tbody>\n",
       "    <tr>\n",
       "      <th>0</th>\n",
       "      <td>400001</td>\n",
       "      <td>CT01</td>\n",
       "    </tr>\n",
       "    <tr>\n",
       "      <th>1</th>\n",
       "      <td>400053</td>\n",
       "      <td>CT01</td>\n",
       "    </tr>\n",
       "    <tr>\n",
       "      <th>2</th>\n",
       "      <td>400035</td>\n",
       "      <td>CT01</td>\n",
       "    </tr>\n",
       "    <tr>\n",
       "      <th>3</th>\n",
       "      <td>400050</td>\n",
       "      <td>CT01</td>\n",
       "    </tr>\n",
       "    <tr>\n",
       "      <th>4</th>\n",
       "      <td>411002</td>\n",
       "      <td>CT02</td>\n",
       "    </tr>\n",
       "  </tbody>\n",
       "</table>\n",
       "</div>"
      ],
      "text/plain": [
       "   Postal_Code City_Code\n",
       "0       400001      CT01\n",
       "1       400053      CT01\n",
       "2       400035      CT01\n",
       "3       400050      CT01\n",
       "4       411002      CT02"
      ]
     },
     "execution_count": 14,
     "metadata": {},
     "output_type": "execute_result"
    }
   ],
   "source": [
    "df3.head()"
   ]
  },
  {
   "cell_type": "code",
   "execution_count": 16,
   "id": "bbaeaf39-6c83-4892-8179-2ecfd88e6350",
   "metadata": {},
   "outputs": [
    {
     "name": "stdout",
     "output_type": "stream",
     "text": [
      "<class 'pandas.core.frame.DataFrame'>\n",
      "RangeIndex: 61 entries, 0 to 60\n",
      "Data columns (total 2 columns):\n",
      " #   Column       Non-Null Count  Dtype \n",
      "---  ------       --------------  ----- \n",
      " 0   Postal_Code  61 non-null     int64 \n",
      " 1   City_Code    61 non-null     object\n",
      "dtypes: int64(1), object(1)\n",
      "memory usage: 1.1+ KB\n"
     ]
    }
   ],
   "source": [
    "df3.info()"
   ]
  },
  {
   "cell_type": "code",
   "execution_count": 27,
   "id": "8c0e6175-2623-4732-9bcc-efaa4fbf17b8",
   "metadata": {},
   "outputs": [
    {
     "data": {
      "text/html": [
       "<div>\n",
       "<style scoped>\n",
       "    .dataframe tbody tr th:only-of-type {\n",
       "        vertical-align: middle;\n",
       "    }\n",
       "\n",
       "    .dataframe tbody tr th {\n",
       "        vertical-align: top;\n",
       "    }\n",
       "\n",
       "    .dataframe thead th {\n",
       "        text-align: right;\n",
       "    }\n",
       "</style>\n",
       "<table border=\"1\" class=\"dataframe\">\n",
       "  <thead>\n",
       "    <tr style=\"text-align: right;\">\n",
       "      <th></th>\n",
       "      <th>Postal_Code</th>\n",
       "    </tr>\n",
       "  </thead>\n",
       "  <tbody>\n",
       "    <tr>\n",
       "      <th>count</th>\n",
       "      <td>61.000000</td>\n",
       "    </tr>\n",
       "    <tr>\n",
       "      <th>mean</th>\n",
       "      <td>505838.655738</td>\n",
       "    </tr>\n",
       "    <tr>\n",
       "      <th>std</th>\n",
       "      <td>182576.143235</td>\n",
       "    </tr>\n",
       "    <tr>\n",
       "      <th>min</th>\n",
       "      <td>110001.000000</td>\n",
       "    </tr>\n",
       "    <tr>\n",
       "      <th>25%</th>\n",
       "      <td>400001.000000</td>\n",
       "    </tr>\n",
       "    <tr>\n",
       "      <th>50%</th>\n",
       "      <td>524225.000000</td>\n",
       "    </tr>\n",
       "    <tr>\n",
       "      <th>75%</th>\n",
       "      <td>641006.000000</td>\n",
       "    </tr>\n",
       "    <tr>\n",
       "      <th>max</th>\n",
       "      <td>834001.000000</td>\n",
       "    </tr>\n",
       "  </tbody>\n",
       "</table>\n",
       "</div>"
      ],
      "text/plain": [
       "         Postal_Code\n",
       "count      61.000000\n",
       "mean   505838.655738\n",
       "std    182576.143235\n",
       "min    110001.000000\n",
       "25%    400001.000000\n",
       "50%    524225.000000\n",
       "75%    641006.000000\n",
       "max    834001.000000"
      ]
     },
     "execution_count": 27,
     "metadata": {},
     "output_type": "execute_result"
    }
   ],
   "source": [
    "df3.describe()"
   ]
  },
  {
   "cell_type": "code",
   "execution_count": 29,
   "id": "2e764a9f-df9d-415c-8e72-7ef4d8512fab",
   "metadata": {},
   "outputs": [
    {
     "data": {
      "text/plain": [
       "(61, 2)"
      ]
     },
     "execution_count": 29,
     "metadata": {},
     "output_type": "execute_result"
    }
   ],
   "source": [
    "df3.shape"
   ]
  },
  {
   "cell_type": "code",
   "execution_count": 31,
   "id": "1995d41f-465b-472b-b8bd-696753fb6421",
   "metadata": {},
   "outputs": [
    {
     "data": {
      "text/html": [
       "<div>\n",
       "<style scoped>\n",
       "    .dataframe tbody tr th:only-of-type {\n",
       "        vertical-align: middle;\n",
       "    }\n",
       "\n",
       "    .dataframe tbody tr th {\n",
       "        vertical-align: top;\n",
       "    }\n",
       "\n",
       "    .dataframe thead th {\n",
       "        text-align: right;\n",
       "    }\n",
       "</style>\n",
       "<table border=\"1\" class=\"dataframe\">\n",
       "  <thead>\n",
       "    <tr style=\"text-align: right;\">\n",
       "      <th></th>\n",
       "      <th>Region_Code</th>\n",
       "      <th>Region</th>\n",
       "    </tr>\n",
       "  </thead>\n",
       "  <tbody>\n",
       "    <tr>\n",
       "      <th>0</th>\n",
       "      <td>R1</td>\n",
       "      <td>Central</td>\n",
       "    </tr>\n",
       "    <tr>\n",
       "      <th>1</th>\n",
       "      <td>R2</td>\n",
       "      <td>East</td>\n",
       "    </tr>\n",
       "    <tr>\n",
       "      <th>2</th>\n",
       "      <td>R3</td>\n",
       "      <td>West</td>\n",
       "    </tr>\n",
       "    <tr>\n",
       "      <th>3</th>\n",
       "      <td>R4</td>\n",
       "      <td>South</td>\n",
       "    </tr>\n",
       "    <tr>\n",
       "      <th>4</th>\n",
       "      <td>R5</td>\n",
       "      <td>North</td>\n",
       "    </tr>\n",
       "  </tbody>\n",
       "</table>\n",
       "</div>"
      ],
      "text/plain": [
       "  Region_Code   Region\n",
       "0          R1  Central\n",
       "1          R2     East\n",
       "2          R3     West\n",
       "3          R4    South\n",
       "4          R5    North"
      ]
     },
     "execution_count": 31,
     "metadata": {},
     "output_type": "execute_result"
    }
   ],
   "source": [
    "df4.head()"
   ]
  },
  {
   "cell_type": "code",
   "execution_count": 33,
   "id": "a762b72d-7520-4cdc-a758-9fcf76a1f367",
   "metadata": {},
   "outputs": [
    {
     "name": "stdout",
     "output_type": "stream",
     "text": [
      "<class 'pandas.core.frame.DataFrame'>\n",
      "RangeIndex: 6 entries, 0 to 5\n",
      "Data columns (total 2 columns):\n",
      " #   Column       Non-Null Count  Dtype \n",
      "---  ------       --------------  ----- \n",
      " 0   Region_Code  6 non-null      object\n",
      " 1   Region       6 non-null      object\n",
      "dtypes: object(2)\n",
      "memory usage: 228.0+ bytes\n"
     ]
    }
   ],
   "source": [
    "df4.info()"
   ]
  },
  {
   "cell_type": "code",
   "execution_count": 35,
   "id": "7fd0cd4f-165a-4bfc-8e2d-0a302be79ad1",
   "metadata": {},
   "outputs": [
    {
     "data": {
      "text/html": [
       "<div>\n",
       "<style scoped>\n",
       "    .dataframe tbody tr th:only-of-type {\n",
       "        vertical-align: middle;\n",
       "    }\n",
       "\n",
       "    .dataframe tbody tr th {\n",
       "        vertical-align: top;\n",
       "    }\n",
       "\n",
       "    .dataframe thead th {\n",
       "        text-align: right;\n",
       "    }\n",
       "</style>\n",
       "<table border=\"1\" class=\"dataframe\">\n",
       "  <thead>\n",
       "    <tr style=\"text-align: right;\">\n",
       "      <th></th>\n",
       "      <th>Region_Code</th>\n",
       "      <th>Region</th>\n",
       "    </tr>\n",
       "  </thead>\n",
       "  <tbody>\n",
       "    <tr>\n",
       "      <th>count</th>\n",
       "      <td>6</td>\n",
       "      <td>6</td>\n",
       "    </tr>\n",
       "    <tr>\n",
       "      <th>unique</th>\n",
       "      <td>6</td>\n",
       "      <td>6</td>\n",
       "    </tr>\n",
       "    <tr>\n",
       "      <th>top</th>\n",
       "      <td>R1</td>\n",
       "      <td>Central</td>\n",
       "    </tr>\n",
       "    <tr>\n",
       "      <th>freq</th>\n",
       "      <td>1</td>\n",
       "      <td>1</td>\n",
       "    </tr>\n",
       "  </tbody>\n",
       "</table>\n",
       "</div>"
      ],
      "text/plain": [
       "       Region_Code   Region\n",
       "count            6        6\n",
       "unique           6        6\n",
       "top             R1  Central\n",
       "freq             1        1"
      ]
     },
     "execution_count": 35,
     "metadata": {},
     "output_type": "execute_result"
    }
   ],
   "source": [
    "df4.describe()"
   ]
  },
  {
   "cell_type": "code",
   "execution_count": 37,
   "id": "c92decc0-d079-4ed6-88c8-f2ec3d2c2d44",
   "metadata": {},
   "outputs": [
    {
     "data": {
      "text/plain": [
       "(6, 2)"
      ]
     },
     "execution_count": 37,
     "metadata": {},
     "output_type": "execute_result"
    }
   ],
   "source": [
    "df4.shape"
   ]
  },
  {
   "cell_type": "code",
   "execution_count": 39,
   "id": "fce7d946-bee5-4dbd-838e-cd6953f1cb09",
   "metadata": {},
   "outputs": [
    {
     "data": {
      "text/html": [
       "<div>\n",
       "<style scoped>\n",
       "    .dataframe tbody tr th:only-of-type {\n",
       "        vertical-align: middle;\n",
       "    }\n",
       "\n",
       "    .dataframe tbody tr th {\n",
       "        vertical-align: top;\n",
       "    }\n",
       "\n",
       "    .dataframe thead th {\n",
       "        text-align: right;\n",
       "    }\n",
       "</style>\n",
       "<table border=\"1\" class=\"dataframe\">\n",
       "  <thead>\n",
       "    <tr style=\"text-align: right;\">\n",
       "      <th></th>\n",
       "      <th>Region_Code</th>\n",
       "      <th>State_Code</th>\n",
       "    </tr>\n",
       "  </thead>\n",
       "  <tbody>\n",
       "    <tr>\n",
       "      <th>0</th>\n",
       "      <td>R4</td>\n",
       "      <td>ST01</td>\n",
       "    </tr>\n",
       "    <tr>\n",
       "      <th>1</th>\n",
       "      <td>R6</td>\n",
       "      <td>ST02</td>\n",
       "    </tr>\n",
       "    <tr>\n",
       "      <th>2</th>\n",
       "      <td>R6</td>\n",
       "      <td>ST03</td>\n",
       "    </tr>\n",
       "    <tr>\n",
       "      <th>3</th>\n",
       "      <td>R2</td>\n",
       "      <td>ST04</td>\n",
       "    </tr>\n",
       "    <tr>\n",
       "      <th>4</th>\n",
       "      <td>R1</td>\n",
       "      <td>ST05</td>\n",
       "    </tr>\n",
       "  </tbody>\n",
       "</table>\n",
       "</div>"
      ],
      "text/plain": [
       "  Region_Code State_Code\n",
       "0          R4       ST01\n",
       "1          R6       ST02\n",
       "2          R6       ST03\n",
       "3          R2       ST04\n",
       "4          R1       ST05"
      ]
     },
     "execution_count": 39,
     "metadata": {},
     "output_type": "execute_result"
    }
   ],
   "source": [
    "df5.head()"
   ]
  },
  {
   "cell_type": "code",
   "execution_count": 41,
   "id": "969b316d-3a10-4b81-91ec-13753dbca1a7",
   "metadata": {},
   "outputs": [
    {
     "name": "stdout",
     "output_type": "stream",
     "text": [
      "<class 'pandas.core.frame.DataFrame'>\n",
      "RangeIndex: 36 entries, 0 to 35\n",
      "Data columns (total 2 columns):\n",
      " #   Column       Non-Null Count  Dtype \n",
      "---  ------       --------------  ----- \n",
      " 0   Region_Code  36 non-null     object\n",
      " 1   State_Code   36 non-null     object\n",
      "dtypes: object(2)\n",
      "memory usage: 708.0+ bytes\n"
     ]
    }
   ],
   "source": [
    "df5.info()"
   ]
  },
  {
   "cell_type": "code",
   "execution_count": 43,
   "id": "b0226b81-ed28-4678-995b-99d16edfa3fb",
   "metadata": {},
   "outputs": [
    {
     "data": {
      "text/html": [
       "<div>\n",
       "<style scoped>\n",
       "    .dataframe tbody tr th:only-of-type {\n",
       "        vertical-align: middle;\n",
       "    }\n",
       "\n",
       "    .dataframe tbody tr th {\n",
       "        vertical-align: top;\n",
       "    }\n",
       "\n",
       "    .dataframe thead th {\n",
       "        text-align: right;\n",
       "    }\n",
       "</style>\n",
       "<table border=\"1\" class=\"dataframe\">\n",
       "  <thead>\n",
       "    <tr style=\"text-align: right;\">\n",
       "      <th></th>\n",
       "      <th>Region_Code</th>\n",
       "      <th>State_Code</th>\n",
       "    </tr>\n",
       "  </thead>\n",
       "  <tbody>\n",
       "    <tr>\n",
       "      <th>count</th>\n",
       "      <td>36</td>\n",
       "      <td>36</td>\n",
       "    </tr>\n",
       "    <tr>\n",
       "      <th>unique</th>\n",
       "      <td>6</td>\n",
       "      <td>36</td>\n",
       "    </tr>\n",
       "    <tr>\n",
       "      <th>top</th>\n",
       "      <td>R4</td>\n",
       "      <td>ST01</td>\n",
       "    </tr>\n",
       "    <tr>\n",
       "      <th>freq</th>\n",
       "      <td>8</td>\n",
       "      <td>1</td>\n",
       "    </tr>\n",
       "  </tbody>\n",
       "</table>\n",
       "</div>"
      ],
      "text/plain": [
       "       Region_Code State_Code\n",
       "count           36         36\n",
       "unique           6         36\n",
       "top             R4       ST01\n",
       "freq             8          1"
      ]
     },
     "execution_count": 43,
     "metadata": {},
     "output_type": "execute_result"
    }
   ],
   "source": [
    "df5.describe()"
   ]
  },
  {
   "cell_type": "code",
   "execution_count": 45,
   "id": "678e24af-bc80-469e-b615-7ad494f04223",
   "metadata": {},
   "outputs": [
    {
     "data": {
      "text/plain": [
       "(36, 2)"
      ]
     },
     "execution_count": 45,
     "metadata": {},
     "output_type": "execute_result"
    }
   ],
   "source": [
    "df5.shape"
   ]
  },
  {
   "cell_type": "code",
   "execution_count": null,
   "id": "79a4b140-41b8-407e-8838-fe5c1f3f39e2",
   "metadata": {},
   "outputs": [],
   "source": []
  },
  {
   "cell_type": "code",
   "execution_count": 48,
   "id": "f56be2a8-9689-493c-9d0d-5300071ef678",
   "metadata": {},
   "outputs": [
    {
     "data": {
      "text/html": [
       "<div>\n",
       "<style scoped>\n",
       "    .dataframe tbody tr th:only-of-type {\n",
       "        vertical-align: middle;\n",
       "    }\n",
       "\n",
       "    .dataframe tbody tr th {\n",
       "        vertical-align: top;\n",
       "    }\n",
       "\n",
       "    .dataframe thead th {\n",
       "        text-align: right;\n",
       "    }\n",
       "</style>\n",
       "<table border=\"1\" class=\"dataframe\">\n",
       "  <thead>\n",
       "    <tr style=\"text-align: right;\">\n",
       "      <th></th>\n",
       "      <th>Sales_ID</th>\n",
       "      <th>Sold</th>\n",
       "    </tr>\n",
       "  </thead>\n",
       "  <tbody>\n",
       "    <tr>\n",
       "      <th>0</th>\n",
       "      <td>1</td>\n",
       "      <td>Y</td>\n",
       "    </tr>\n",
       "    <tr>\n",
       "      <th>1</th>\n",
       "      <td>2</td>\n",
       "      <td>Y</td>\n",
       "    </tr>\n",
       "    <tr>\n",
       "      <th>2</th>\n",
       "      <td>3</td>\n",
       "      <td>Y</td>\n",
       "    </tr>\n",
       "    <tr>\n",
       "      <th>3</th>\n",
       "      <td>4</td>\n",
       "      <td>Y</td>\n",
       "    </tr>\n",
       "    <tr>\n",
       "      <th>4</th>\n",
       "      <td>5</td>\n",
       "      <td>Y</td>\n",
       "    </tr>\n",
       "  </tbody>\n",
       "</table>\n",
       "</div>"
      ],
      "text/plain": [
       "   Sales_ID Sold\n",
       "0         1    Y\n",
       "1         2    Y\n",
       "2         3    Y\n",
       "3         4    Y\n",
       "4         5    Y"
      ]
     },
     "execution_count": 48,
     "metadata": {},
     "output_type": "execute_result"
    }
   ],
   "source": [
    "df6.head()"
   ]
  },
  {
   "cell_type": "code",
   "execution_count": 50,
   "id": "f7d4b92b-67dd-4031-bdf1-698eebf4c3fc",
   "metadata": {},
   "outputs": [
    {
     "name": "stdout",
     "output_type": "stream",
     "text": [
      "<class 'pandas.core.frame.DataFrame'>\n",
      "RangeIndex: 7906 entries, 0 to 7905\n",
      "Data columns (total 2 columns):\n",
      " #   Column    Non-Null Count  Dtype \n",
      "---  ------    --------------  ----- \n",
      " 0   Sales_ID  7906 non-null   int64 \n",
      " 1   Sold      7906 non-null   object\n",
      "dtypes: int64(1), object(1)\n",
      "memory usage: 123.7+ KB\n"
     ]
    }
   ],
   "source": [
    "df6.info()"
   ]
  },
  {
   "cell_type": "code",
   "execution_count": 52,
   "id": "7ec87aa0-777a-496b-ae01-e168c6c55911",
   "metadata": {},
   "outputs": [
    {
     "data": {
      "text/html": [
       "<div>\n",
       "<style scoped>\n",
       "    .dataframe tbody tr th:only-of-type {\n",
       "        vertical-align: middle;\n",
       "    }\n",
       "\n",
       "    .dataframe tbody tr th {\n",
       "        vertical-align: top;\n",
       "    }\n",
       "\n",
       "    .dataframe thead th {\n",
       "        text-align: right;\n",
       "    }\n",
       "</style>\n",
       "<table border=\"1\" class=\"dataframe\">\n",
       "  <thead>\n",
       "    <tr style=\"text-align: right;\">\n",
       "      <th></th>\n",
       "      <th>Region_Code</th>\n",
       "      <th>State_Code</th>\n",
       "    </tr>\n",
       "  </thead>\n",
       "  <tbody>\n",
       "    <tr>\n",
       "      <th>count</th>\n",
       "      <td>36</td>\n",
       "      <td>36</td>\n",
       "    </tr>\n",
       "    <tr>\n",
       "      <th>unique</th>\n",
       "      <td>6</td>\n",
       "      <td>36</td>\n",
       "    </tr>\n",
       "    <tr>\n",
       "      <th>top</th>\n",
       "      <td>R4</td>\n",
       "      <td>ST01</td>\n",
       "    </tr>\n",
       "    <tr>\n",
       "      <th>freq</th>\n",
       "      <td>8</td>\n",
       "      <td>1</td>\n",
       "    </tr>\n",
       "  </tbody>\n",
       "</table>\n",
       "</div>"
      ],
      "text/plain": [
       "       Region_Code State_Code\n",
       "count           36         36\n",
       "unique           6         36\n",
       "top             R4       ST01\n",
       "freq             8          1"
      ]
     },
     "execution_count": 52,
     "metadata": {},
     "output_type": "execute_result"
    }
   ],
   "source": [
    "df5.describe()"
   ]
  },
  {
   "cell_type": "code",
   "execution_count": 54,
   "id": "93f83105-65a8-47ae-bc88-19ef57928e85",
   "metadata": {},
   "outputs": [
    {
     "data": {
      "text/plain": [
       "(36, 2)"
      ]
     },
     "execution_count": 54,
     "metadata": {},
     "output_type": "execute_result"
    }
   ],
   "source": [
    "df5.shape"
   ]
  },
  {
   "cell_type": "code",
   "execution_count": 56,
   "id": "5604235e-fcc9-4d5a-b740-5ed587d7a9c4",
   "metadata": {},
   "outputs": [
    {
     "data": {
      "text/html": [
       "<div>\n",
       "<style scoped>\n",
       "    .dataframe tbody tr th:only-of-type {\n",
       "        vertical-align: middle;\n",
       "    }\n",
       "\n",
       "    .dataframe tbody tr th {\n",
       "        vertical-align: top;\n",
       "    }\n",
       "\n",
       "    .dataframe thead th {\n",
       "        text-align: right;\n",
       "    }\n",
       "</style>\n",
       "<table border=\"1\" class=\"dataframe\">\n",
       "  <thead>\n",
       "    <tr style=\"text-align: right;\">\n",
       "      <th></th>\n",
       "      <th>State_Code</th>\n",
       "      <th>State_Name</th>\n",
       "    </tr>\n",
       "  </thead>\n",
       "  <tbody>\n",
       "    <tr>\n",
       "      <th>0</th>\n",
       "      <td>ST01</td>\n",
       "      <td>Andhra Pradesh</td>\n",
       "    </tr>\n",
       "    <tr>\n",
       "      <th>1</th>\n",
       "      <td>ST02</td>\n",
       "      <td>Arunachal Pradesh</td>\n",
       "    </tr>\n",
       "    <tr>\n",
       "      <th>2</th>\n",
       "      <td>ST03</td>\n",
       "      <td>Assam</td>\n",
       "    </tr>\n",
       "    <tr>\n",
       "      <th>3</th>\n",
       "      <td>ST04</td>\n",
       "      <td>Bihar</td>\n",
       "    </tr>\n",
       "    <tr>\n",
       "      <th>4</th>\n",
       "      <td>ST05</td>\n",
       "      <td>Chhattisgarh</td>\n",
       "    </tr>\n",
       "  </tbody>\n",
       "</table>\n",
       "</div>"
      ],
      "text/plain": [
       "  State_Code         State_Name\n",
       "0       ST01     Andhra Pradesh\n",
       "1       ST02  Arunachal Pradesh\n",
       "2       ST03              Assam\n",
       "3       ST04              Bihar\n",
       "4       ST05       Chhattisgarh"
      ]
     },
     "execution_count": 56,
     "metadata": {},
     "output_type": "execute_result"
    }
   ],
   "source": [
    "df7.head()"
   ]
  },
  {
   "cell_type": "code",
   "execution_count": 58,
   "id": "84ebe15e-7237-4c46-aa81-618c411b553e",
   "metadata": {},
   "outputs": [
    {
     "name": "stdout",
     "output_type": "stream",
     "text": [
      "<class 'pandas.core.frame.DataFrame'>\n",
      "RangeIndex: 36 entries, 0 to 35\n",
      "Data columns (total 2 columns):\n",
      " #   Column      Non-Null Count  Dtype \n",
      "---  ------      --------------  ----- \n",
      " 0   State_Code  36 non-null     object\n",
      " 1   State_Name  36 non-null     object\n",
      "dtypes: object(2)\n",
      "memory usage: 708.0+ bytes\n"
     ]
    }
   ],
   "source": [
    "df7.info()"
   ]
  },
  {
   "cell_type": "code",
   "execution_count": 60,
   "id": "94999286-957c-4872-a117-d61d72ed7f5d",
   "metadata": {},
   "outputs": [
    {
     "data": {
      "text/html": [
       "<div>\n",
       "<style scoped>\n",
       "    .dataframe tbody tr th:only-of-type {\n",
       "        vertical-align: middle;\n",
       "    }\n",
       "\n",
       "    .dataframe tbody tr th {\n",
       "        vertical-align: top;\n",
       "    }\n",
       "\n",
       "    .dataframe thead th {\n",
       "        text-align: right;\n",
       "    }\n",
       "</style>\n",
       "<table border=\"1\" class=\"dataframe\">\n",
       "  <thead>\n",
       "    <tr style=\"text-align: right;\">\n",
       "      <th></th>\n",
       "      <th>State_Code</th>\n",
       "      <th>State_Name</th>\n",
       "    </tr>\n",
       "  </thead>\n",
       "  <tbody>\n",
       "    <tr>\n",
       "      <th>count</th>\n",
       "      <td>36</td>\n",
       "      <td>36</td>\n",
       "    </tr>\n",
       "    <tr>\n",
       "      <th>unique</th>\n",
       "      <td>36</td>\n",
       "      <td>36</td>\n",
       "    </tr>\n",
       "    <tr>\n",
       "      <th>top</th>\n",
       "      <td>ST01</td>\n",
       "      <td>Andhra Pradesh</td>\n",
       "    </tr>\n",
       "    <tr>\n",
       "      <th>freq</th>\n",
       "      <td>1</td>\n",
       "      <td>1</td>\n",
       "    </tr>\n",
       "  </tbody>\n",
       "</table>\n",
       "</div>"
      ],
      "text/plain": [
       "       State_Code      State_Name\n",
       "count          36              36\n",
       "unique         36              36\n",
       "top          ST01  Andhra Pradesh\n",
       "freq            1               1"
      ]
     },
     "execution_count": 60,
     "metadata": {},
     "output_type": "execute_result"
    }
   ],
   "source": [
    "df7.describe()"
   ]
  },
  {
   "cell_type": "code",
   "execution_count": 62,
   "id": "5199e751-9e4e-4058-a61a-a992f53cc7e9",
   "metadata": {},
   "outputs": [
    {
     "data": {
      "text/plain": [
       "(36, 2)"
      ]
     },
     "execution_count": 62,
     "metadata": {},
     "output_type": "execute_result"
    }
   ],
   "source": [
    "df7.shape"
   ]
  },
  {
   "cell_type": "markdown",
   "id": "93588ab3-9fed-4133-b9c3-2aad01735219",
   "metadata": {},
   "source": [
    "# Data Cleaning"
   ]
  },
  {
   "cell_type": "code",
   "execution_count": 65,
   "id": "5322d28b-445c-4cad-ab2e-04899fe0219d",
   "metadata": {},
   "outputs": [
    {
     "name": "stdout",
     "output_type": "stream",
     "text": [
      "Missing values in df1:\n",
      " Sales_ID         0\n",
      "Name             0\n",
      "Year             0\n",
      "Selling_Price    0\n",
      "km_Driven        0\n",
      "City_Code        0\n",
      "State_Code       0\n",
      "Postal_Code      0\n",
      "Fuel             0\n",
      "Seller_Type      0\n",
      "Transmission     0\n",
      "Owner            0\n",
      "Mileage          0\n",
      "Engine           0\n",
      "Max_Power        0\n",
      "Seats            0\n",
      "dtype: int64\n"
     ]
    }
   ],
   "source": [
    "# Identify missing values\n",
    "missing_values = df1.isnull().sum()\n",
    "print(\"Missing values in df1:\\n\", missing_values)\n",
    "\n"
   ]
  },
  {
   "cell_type": "code",
   "execution_count": 67,
   "id": "d0ccaab4-0591-4878-8f5a-6e53de42de23",
   "metadata": {},
   "outputs": [],
   "source": [
    "# Drop rows with missing values\n",
    "df1_cleaned = df1.dropna()"
   ]
  },
  {
   "cell_type": "code",
   "execution_count": 69,
   "id": "86d8754a-60d6-41f2-9ec3-db712bf37511",
   "metadata": {},
   "outputs": [
    {
     "name": "stdout",
     "output_type": "stream",
     "text": [
      "Sales_ID         0\n",
      "Name             0\n",
      "Year             0\n",
      "Selling_Price    0\n",
      "km_Driven        0\n",
      "City_Code        0\n",
      "State_Code       0\n",
      "Postal_Code      0\n",
      "Fuel             0\n",
      "Seller_Type      0\n",
      "Transmission     0\n",
      "Owner            0\n",
      "Mileage          0\n",
      "Engine           0\n",
      "Max_Power        0\n",
      "Seats            0\n",
      "dtype: int64\n"
     ]
    }
   ],
   "source": [
    "# Fill numeric columns with the mean\n",
    "numeric_cols = df1.select_dtypes(include=['float64', 'int64']).columns\n",
    "df1[numeric_cols] = df1[numeric_cols].fillna(df1[numeric_cols].mean())\n",
    "\n",
    "# For non-numeric columns, fill with mode (most frequent value)\n",
    "non_numeric_cols = df1.select_dtypes(exclude=['float64', 'int64']).columns\n",
    "for col in non_numeric_cols:\n",
    "    df1[col].fillna(df1[col].mode()[0], inplace=True)\n",
    "\n",
    "# Check if missing values are handled\n",
    "print(df1.isnull().sum())\n"
   ]
  },
  {
   "cell_type": "code",
   "execution_count": 71,
   "id": "634feafa-20f5-411d-987f-4306f482bb7b",
   "metadata": {},
   "outputs": [
    {
     "name": "stdout",
     "output_type": "stream",
     "text": [
      "\n",
      "Outliers in df1 (numeric columns only):\n",
      " Sales_ID            0\n",
      "Year              165\n",
      "Selling_Price     598\n",
      "km_Driven         194\n",
      "Postal_Code         0\n",
      "Seats            1652\n",
      "dtype: int64\n"
     ]
    }
   ],
   "source": [
    "# Select only numeric columns\n",
    "numeric_cols = df1.select_dtypes(include=['float64', 'int64']).columns\n",
    "\n",
    "# Calculate Q1, Q3, and IQR for numeric columns\n",
    "Q1 = df1[numeric_cols].quantile(0.25)\n",
    "Q3 = df1[numeric_cols].quantile(0.75)\n",
    "IQR = Q3 - Q1\n",
    "\n",
    "# Detect outliers\n",
    "outliers = ((df1[numeric_cols] < (Q1 - 1.5 * IQR)) | (df1[numeric_cols] > (Q3 + 1.5 * IQR))).sum()\n",
    "\n",
    "print(\"\\nOutliers in df1 (numeric columns only):\\n\", outliers)\n"
   ]
  },
  {
   "cell_type": "code",
   "execution_count": 73,
   "id": "38788c3f-a84a-425c-9748-659b3fe84d75",
   "metadata": {},
   "outputs": [
    {
     "data": {
      "text/plain": [
       "Index(['Sales_ID', 'Name', 'Year', 'Selling_Price', 'km_Driven', 'City_Code',\n",
       "       'State_Code', 'Postal_Code', 'Fuel', 'Seller_Type', 'Transmission',\n",
       "       'Owner', 'Mileage', 'Engine', 'Max_Power', 'Seats'],\n",
       "      dtype='object')"
      ]
     },
     "execution_count": 73,
     "metadata": {},
     "output_type": "execute_result"
    }
   ],
   "source": [
    "df1.columns"
   ]
  },
  {
   "cell_type": "markdown",
   "id": "09e73177-010f-4e7c-918e-b8a17b9b532f",
   "metadata": {},
   "source": [
    "# Data Transformation"
   ]
  },
  {
   "cell_type": "code",
   "execution_count": 76,
   "id": "80bc4b08-e78f-436f-a937-da178193ffa7",
   "metadata": {},
   "outputs": [],
   "source": [
    "df1[['Selling_Price', 'km_Driven', 'Mileage', 'Engine', 'Max_Power']] = df1[['Selling_Price', 'km_Driven', 'Mileage', 'Engine', 'Max_Power']].apply(pd.to_numeric, errors='coerce')\n"
   ]
  },
  {
   "cell_type": "code",
   "execution_count": 78,
   "id": "174a7b2c-26e9-4d5e-8584-1b0bba711d43",
   "metadata": {},
   "outputs": [],
   "source": [
    "df1[['Selling_Price', 'km_Driven', 'Mileage', 'Engine', 'Max_Power']].isnull().sum()\n",
    "\n",
    "# Fill missing values (e.g., with the mean of the column)\n",
    "df1[['Selling_Price', 'km_Driven', 'Mileage', 'Engine', 'Max_Power']] = df1[['Selling_Price', 'km_Driven', 'Mileage', 'Engine', 'Max_Power']].fillna(df1[['Selling_Price', 'km_Driven', 'Mileage', 'Engine', 'Max_Power']].mean())\n"
   ]
  },
  {
   "cell_type": "code",
   "execution_count": 80,
   "id": "2d6064ad-c6a0-457e-8857-2f822f460d23",
   "metadata": {},
   "outputs": [
    {
     "name": "stdout",
     "output_type": "stream",
     "text": [
      "Index(['Sales_ID', 'Name', 'Year', 'Selling_Price', 'km_Driven', 'City_Code',\n",
      "       'State_Code', 'Postal_Code', 'Fuel', 'Seller_Type', 'Transmission',\n",
      "       'Owner', 'Mileage', 'Engine', 'Max_Power', 'Seats'],\n",
      "      dtype='object')\n"
     ]
    }
   ],
   "source": [
    "print(df1.columns)\n"
   ]
  },
  {
   "cell_type": "code",
   "execution_count": 82,
   "id": "27e46e6d-94ba-4632-aa04-2ec419a72a11",
   "metadata": {},
   "outputs": [],
   "source": [
    "\n",
    "# Initialize the Min-Max Scaler\n",
    "min_max_scaler = MinMaxScaler()\n",
    "\n",
    "# Apply Min-Max Scaling\n",
    "df1[['Selling_Price', 'km_Driven', 'Mileage', 'Engine', 'Max_Power']] = min_max_scaler.fit_transform(\n",
    "    df1[['Selling_Price', 'km_Driven', 'Mileage', 'Engine', 'Max_Power']]\n",
    ")\n",
    "\n",
    "# Initialize the Standard Scaler\n",
    "standard_scaler = StandardScaler()\n",
    "\n",
    "# Apply Standardization\n",
    "df1[['Selling_Price', 'km_Driven', 'Mileage', 'Engine', 'Max_Power']] = standard_scaler.fit_transform(\n",
    "    df1[['Selling_Price', 'km_Driven', 'Mileage', 'Engine', 'Max_Power']]\n",
    ")\n"
   ]
  },
  {
   "cell_type": "code",
   "execution_count": 84,
   "id": "a0bab3d9-d13b-4220-bee8-38da9e996003",
   "metadata": {},
   "outputs": [
    {
     "data": {
      "text/plain": [
       "Index(['Sales_ID', 'Name', 'Year', 'Selling_Price', 'km_Driven', 'City_Code',\n",
       "       'State_Code', 'Postal_Code', 'Fuel', 'Seller_Type', 'Transmission',\n",
       "       'Owner', 'Mileage', 'Engine', 'Max_Power', 'Seats'],\n",
       "      dtype='object')"
      ]
     },
     "execution_count": 84,
     "metadata": {},
     "output_type": "execute_result"
    }
   ],
   "source": [
    "df1.columns"
   ]
  },
  {
   "cell_type": "code",
   "execution_count": 86,
   "id": "ebc1ed08-97eb-48e0-a85d-5e4309026a73",
   "metadata": {},
   "outputs": [
    {
     "name": "stdout",
     "output_type": "stream",
     "text": [
      "   Sales_ID                          Name  Year  Selling_Price  km_Driven  \\\n",
      "0         1        Maruti Swift Dzire VDI  2014      -0.245613   1.343777   \n",
      "1         2  Skoda Rapid 1.5 TDI Ambition  2014      -0.343950   0.894744   \n",
      "2         3      Honda City 2017-2020 EXi  2006      -0.604542   1.246926   \n",
      "3         4     Hyundai i20 Sportz Diesel  2010      -0.522185   1.018008   \n",
      "4         5        Maruti Swift VXI BSIII  2007      -0.638960   0.894744   \n",
      "\n",
      "  City_Code State_Code  Postal_Code    Fuel Seller_Type Transmission  \\\n",
      "0      CT01       ST15       400001  Diesel  Individual       Manual   \n",
      "1      CT28       ST11       834001  Diesel  Individual       Manual   \n",
      "2      CT12       ST28       201301  Petrol  Individual       Manual   \n",
      "3      CT21       ST27       248001  Diesel  Individual       Manual   \n",
      "4      CT03       ST24       600020  Petrol  Individual       Manual   \n",
      "\n",
      "          Owner  Mileage  Engine  Max_Power  Seats  \n",
      "0   First Owner      NaN     NaN        NaN      5  \n",
      "1  Second Owner      NaN     NaN        NaN      5  \n",
      "2   Third Owner      NaN     NaN        NaN      5  \n",
      "3   First Owner      NaN     NaN        NaN      5  \n",
      "4   First Owner      NaN     NaN        NaN      5  \n",
      "  City_Code  Selling_Price\n",
      "0      CT01      -0.002308\n",
      "1      CT02      -0.131370\n",
      "2      CT03      -0.017360\n",
      "3      CT04      -0.026032\n",
      "4      CT05      -0.056587\n",
      "     Fuel  Selling_Price\n",
      "0     CNG      -0.407987\n",
      "1  Diesel       0.187622\n",
      "2     LPG      -0.539534\n",
      "3  Petrol      -0.217753\n",
      "        Seller_Type Transmission  Count\n",
      "0            Dealer    Automatic    458\n",
      "1            Dealer       Manual    649\n",
      "2        Individual    Automatic    484\n",
      "3        Individual       Manual   6079\n",
      "4  Trustmark Dealer    Automatic     99\n",
      "                  Owner  Selling_Price\n",
      "0           First Owner       0.172294\n",
      "1  Fourth & Above Owner      -0.512109\n",
      "2          Second Owner      -0.305594\n",
      "3        Test Drive Car       4.614434\n",
      "4           Third Owner      -0.438368\n"
     ]
    }
   ],
   "source": [
    "import pandas as pd\n",
    "\n",
    "# Aggregating data\n",
    "df_city_avg_price = df1.groupby('City_Code').agg({'Selling_Price': 'mean'}).reset_index()\n",
    "\n",
    "# Grouping by 'Fuel' instead of 'Fuel_CNG', 'Fuel_Diesel', etc.\n",
    "df_fuel_avg_price = df1.groupby('Fuel').agg({'Selling_Price': 'mean'}).reset_index()\n",
    "\n",
    "# Grouping by 'Seller_Type' and 'Transmission'\n",
    "df_seller_transmission_count = df1.groupby(['Seller_Type', 'Transmission']).size().reset_index(name='Count')\n",
    "\n",
    "# Grouping by 'Owner' instead of individual owner types\n",
    "df_owner_avg_price = df1.groupby('Owner').agg({'Selling_Price': 'mean'}).reset_index()\n",
    "\n",
    "# Check results\n",
    "print(df1.head())\n",
    "print(df_city_avg_price.head())\n",
    "print(df_fuel_avg_price.head())\n",
    "print(df_seller_transmission_count.head())\n",
    "print(df_owner_avg_price.head())\n",
    "\n"
   ]
  },
  {
   "cell_type": "code",
   "execution_count": null,
   "id": "219d0f17-c2d4-4a3e-8604-1a0e5e011c09",
   "metadata": {},
   "outputs": [],
   "source": []
  },
  {
   "cell_type": "markdown",
   "id": "e725b538-794e-49df-af46-fde7f205aa6f",
   "metadata": {},
   "source": [
    "# Data Visualization"
   ]
  },
  {
   "cell_type": "code",
   "execution_count": 90,
   "id": "76164fa8-99a5-4835-9513-3e33d3108b80",
   "metadata": {},
   "outputs": [
    {
     "data": {
      "image/png": "[encoded data removed]",
      "text/plain": [
       "<Figure size 1000x600 with 1 Axes>"
      ]
     },
     "metadata": {},
     "output_type": "display_data"
    }
   ],
   "source": [
    "# Histogram of Selling Price\n",
    "plt.figure(figsize=(10, 6))\n",
    "sns.histplot(df1['Selling_Price'], bins=20, kde=True)\n",
    "plt.title('Distribution of Selling Price')\n",
    "plt.xlabel('Selling Price')\n",
    "plt.ylabel('Frequency')\n",
    "plt.show()"
   ]
  },
  {
   "cell_type": "code",
   "execution_count": 92,
   "id": "361b322e-5ded-4881-8e1e-4e16605ba198",
   "metadata": {},
   "outputs": [
    {
     "data": {
      "image/png": "[encoded data removed]",
      "text/plain": [
       "<Figure size 1200x600 with 1 Axes>"
      ]
     },
     "metadata": {},
     "output_type": "display_data"
    }
   ],
   "source": [
    "# Bar Chart of Average Selling Price by City\n",
    "plt.figure(figsize=(12, 6))\n",
    "sns.barplot(x='City_Code', y='Selling_Price', data=df_city_avg_price)\n",
    "plt.title('Average Selling Price by City')\n",
    "plt.xlabel('City Code')\n",
    "plt.ylabel('Average Selling Price')\n",
    "plt.xticks(rotation=45)\n",
    "plt.show()\n"
   ]
  },
  {
   "cell_type": "code",
   "execution_count": 93,
   "id": "be76479b-3623-40fa-bc44-4bcc49cca563",
   "metadata": {},
   "outputs": [
    {
     "data": {
      "image/png": "[encoded data removed]",
      "text/plain": [
       "<Figure size 1000x600 with 1 Axes>"
      ]
     },
     "metadata": {},
     "output_type": "display_data"
    }
   ],
   "source": [
    "import matplotlib.pyplot as plt\n",
    "import seaborn as sns\n",
    "\n",
    "# Aggregating data to get the average selling price by fuel type\n",
    "df_fuel_avg_price = df1.groupby('Fuel')['Selling_Price'].mean().reset_index()\n",
    "\n",
    "# Plotting\n",
    "plt.figure(figsize=(10, 6))\n",
    "sns.barplot(x='Fuel', y='Selling_Price', data=df_fuel_avg_price)\n",
    "plt.title('Average Selling Price by Fuel Type')\n",
    "plt.xlabel('Fuel Type')\n",
    "plt.ylabel('Average Selling Price')\n",
    "plt.show()\n"
   ]
  },
  {
   "cell_type": "code",
   "execution_count": 96,
   "id": "50cba5a5-1f56-44ea-b363-8c6d425b5476",
   "metadata": {},
   "outputs": [
    {
     "data": {
      "image/png": "[encoded data removed]",
      "text/plain": [
       "<Figure size 1000x600 with 1 Axes>"
      ]
     },
     "metadata": {},
     "output_type": "display_data"
    }
   ],
   "source": [
    "# Create Car_Age column\n",
    "current_year = pd.Timestamp.now().year\n",
    "df1['Car_Age'] = current_year - df1['Year']\n",
    "\n",
    "# Now plot Selling Price vs Car Age\n",
    "plt.figure(figsize=(10, 6))\n",
    "sns.scatterplot(x='Car_Age', y='Selling_Price', data=df1)\n",
    "plt.title('Selling Price vs. Car Age')\n",
    "plt.xlabel('Car Age')\n",
    "plt.ylabel('Selling Price')\n",
    "plt.show()\n"
   ]
  },
  {
   "cell_type": "code",
   "execution_count": 98,
   "id": "4fef97e5-b770-48f9-b368-07a217022687",
   "metadata": {},
   "outputs": [
    {
     "name": "stdout",
     "output_type": "stream",
     "text": [
      "0   NaN\n",
      "1   NaN\n",
      "2   NaN\n",
      "3   NaN\n",
      "4   NaN\n",
      "Name: Mileage, dtype: float64\n"
     ]
    },
    {
     "data": {
      "image/png": "[encoded data removed]",
      "text/plain": [
       "<Figure size 1000x600 with 1 Axes>"
      ]
     },
     "metadata": {},
     "output_type": "display_data"
    }
   ],
   "source": [
    "# Check if 'Mileage' column has non-string values or missing values\n",
    "print(df1['Mileage'].head())  # Inspect the data type and structure\n",
    "\n",
    "# First, convert 'Mileage' to string if needed, then remove ' kmpl' and convert to float\n",
    "df1['Mileage'] = df1['Mileage'].astype(str).str.replace(' kmpl', '', regex=False)\n",
    "\n",
    "# Now convert the cleaned 'Mileage' to float\n",
    "df1['Mileage'] = pd.to_numeric(df1['Mileage'], errors='coerce')  # This converts non-numeric values to NaN\n",
    "\n",
    "# Create the derived columns\n",
    "df1['Price_per_km'] = df1['Selling_Price'] / df1['km_Driven']\n",
    "df1['Mileage_per_Seat'] = df1['Mileage'] / df1['Seats']\n",
    "\n",
    "# Plot Mileage per Seat vs Price per Kilometer\n",
    "plt.figure(figsize=(10, 6))\n",
    "sns.scatterplot(x='Mileage_per_Seat', y='Price_per_km', data=df1)\n",
    "plt.title('Mileage per Seat vs. Price per Kilometer')\n",
    "plt.xlabel('Mileage per Seat')\n",
    "plt.ylabel('Price per Kilometer')\n",
    "plt.show()\n"
   ]
  },
  {
   "cell_type": "markdown",
   "id": "4469a12e-448c-434e-8656-6714c6372ac7",
   "metadata": {},
   "source": [
    "# Exploratory Data Analysis"
   ]
  },
  {
   "cell_type": "code",
   "execution_count": 101,
   "id": "222eddb6-0c45-4a4f-8324-e49c8e028d47",
   "metadata": {},
   "outputs": [
    {
     "data": {
      "image/png": "[encoded data removed]",
      "text/plain": [
       "<Figure size 1200x600 with 1 Axes>"
      ]
     },
     "metadata": {},
     "output_type": "display_data"
    }
   ],
   "source": [
    "# Box Plot of Selling Price by Fuel Type\n",
    "plt.figure(figsize=(12, 6))\n",
    "sns.boxplot(x='Fuel', y='Selling_Price', data=df1)\n",
    "plt.title('Selling Price by Fuel Type')\n",
    "plt.xlabel('Fuel Type')\n",
    "plt.ylabel('Selling Price')\n",
    "plt.show()\n"
   ]
  },
  {
   "cell_type": "markdown",
   "id": "55fab32d-8d0d-4f68-bd68-b3a1b22957f5",
   "metadata": {},
   "source": [
    "## Correlation Analysis"
   ]
  },
  {
   "cell_type": "code",
   "execution_count": 104,
   "id": "ebd417a6-12f4-4753-a880-dacbaa43f9fe",
   "metadata": {},
   "outputs": [
    {
     "data": {
      "image/png": "[encoded data removed]",
      "text/plain": [
       "<Figure size 1000x800 with 2 Axes>"
      ]
     },
     "metadata": {},
     "output_type": "display_data"
    }
   ],
   "source": [
    "# For example, if the columns are 'Selling_Price', 'Car_Age', 'Price_per_km', 'Mileage_per_Seat'\n",
    "correlation_matrix = df1[['Selling_Price', 'Car_Age', 'Price_per_km', 'Mileage_per_Seat']].corr()\n",
    "\n",
    "# Plot the heatmap\n",
    "plt.figure(figsize=(10, 8))\n",
    "sns.heatmap(correlation_matrix, annot=True, cmap='coolwarm', fmt='.2f')\n",
    "plt.title('Correlation Heatmap')\n",
    "plt.show()\n"
   ]
  },
  {
   "cell_type": "markdown",
   "id": "aa7225c3-515a-46d5-9035-4b6e7a6451ec",
   "metadata": {},
   "source": [
    "## Frequency Analysis"
   ]
  },
  {
   "cell_type": "code",
   "execution_count": 93,
   "id": "73dea4a4-ead6-48cf-931d-f0ec864208e8",
   "metadata": {},
   "outputs": [
    {
     "data": {
      "image/png": "[encoded data removed]",
      "text/plain": [
       "<Figure size 1000x600 with 1 Axes>"
      ]
     },
     "metadata": {},
     "output_type": "display_data"
    }
   ],
   "source": [
    "fuel_counts = df1['Fuel'].value_counts()\n",
    "plt.figure(figsize=(10, 6))\n",
    "sns.barplot(x=fuel_counts.index, y=fuel_counts.values)\n",
    "plt.title('Frequency of Fuel Types')\n",
    "plt.xlabel('Fuel Type')\n",
    "plt.ylabel('Count')\n",
    "plt.show()\n"
   ]
  },
  {
   "cell_type": "code",
   "execution_count": 95,
   "id": "92e285ca-4069-49bb-b106-3d9b91d93eac",
   "metadata": {},
   "outputs": [
    {
     "data": {
      "image/png": "[encoded data removed]",
      "text/plain": [
       "<Figure size 1000x600 with 1 Axes>"
      ]
     },
     "metadata": {},
     "output_type": "display_data"
    }
   ],
   "source": [
    "seller_counts = df1['Seller_Type'].value_counts()\n",
    "plt.figure(figsize=(10, 6))\n",
    "sns.barplot(x=seller_counts.index, y=seller_counts.values)\n",
    "plt.title('Frequency of Seller Types')\n",
    "plt.xlabel('Seller Type')\n",
    "plt.ylabel('Count')\n",
    "plt.show()\n"
   ]
  },
  {
   "cell_type": "markdown",
   "id": "c5e92999-63be-4932-8095-5b163811281d",
   "metadata": {},
   "source": [
    "# Data Summary"
   ]
  },
  {
   "cell_type": "code",
   "execution_count": 99,
   "id": "8bde2d14-0753-4f8c-bb31-ccaf63b98bbd",
   "metadata": {},
   "outputs": [
    {
     "name": "stdout",
     "output_type": "stream",
     "text": [
      "       Selling_Price      Car_Age  Price_per_km  Power_to_Price_Ratio  \\\n",
      "count   7.906000e+03  7906.000000   7906.000000                   0.0   \n",
      "mean    1.402032e-16    10.016064     -1.595529                   NaN   \n",
      "std     1.000063e+00     3.863695     16.627556                   NaN   \n",
      "min    -7.618818e-01     4.000000  -1063.333147                   NaN   \n",
      "25%    -4.668704e-01     7.000000     -0.905805                   NaN   \n",
      "50%    -2.456128e-01     9.000000     -0.164601                   NaN   \n",
      "75%     4.939734e-02    12.000000      0.444983                   NaN   \n",
      "max     1.149333e+01    30.000000    295.982911                   NaN   \n",
      "\n",
      "       Mileage_per_Seat  \n",
      "count               0.0  \n",
      "mean                NaN  \n",
      "std                 NaN  \n",
      "min                 NaN  \n",
      "25%                 NaN  \n",
      "50%                 NaN  \n",
      "75%                 NaN  \n",
      "max                 NaN  \n"
     ]
    }
   ],
   "source": [
    "# Convert columns to strings if they are not already\n",
    "df1['Max_Power'] = df1['Max_Power'].astype(str)\n",
    "df1['Mileage'] = df1['Mileage'].astype(str)\n",
    "\n",
    "# Compute new columns\n",
    "df1['Car_Age'] = 2024 - df1['Year']\n",
    "df1['Price_per_km'] = df1['Selling_Price'] / df1['km_Driven']\n",
    "\n",
    "# Extract numeric parts and convert to float\n",
    "df1['Power_to_Price_Ratio'] = df1['Max_Power'].str.extract('(\\d+)').astype(float).squeeze() / df1['Selling_Price']\n",
    "df1['Mileage_per_Seat'] = df1['Mileage'].str.extract('(\\d+\\.\\d+)').astype(float).squeeze() / df1['Seats']\n",
    "\n",
    "# Print descriptive statistics\n",
    "print(df1[['Selling_Price', 'Car_Age', 'Price_per_km', 'Power_to_Price_Ratio', 'Mileage_per_Seat']].describe())\n"
   ]
  },
  {
   "cell_type": "markdown",
   "id": "06dd10d0-b595-411b-b1e9-28fae1643a8f",
   "metadata": {},
   "source": [
    "# Hypothetical Testing"
   ]
  },
  {
   "cell_type": "markdown",
   "id": "4ec51b63-5c1a-492a-b803-0e9dbae57195",
   "metadata": {},
   "source": [
    "# T-TEST"
   ]
  },
  {
   "cell_type": "code",
   "execution_count": 114,
   "id": "5e5b240d",
   "metadata": {},
   "outputs": [
    {
     "name": "stdout",
     "output_type": "stream",
     "text": [
      "T-statistic: -65.01121877770679\n",
      "P-value: 0.0\n"
     ]
    }
   ],
   "source": [
    "from scipy import stats\n",
    "\n",
    "manual_prices = df1[df1['Transmission'] == 'Manual']['Selling_Price']\n",
    "automatic_prices = df1[df1['Transmission'] == 'Automatic']['Selling_Price']\n",
    "\n",
    "t_stat, p_value = stats.ttest_ind(manual_prices, automatic_prices)\n",
    "\n",
    "print(\"T-statistic:\", t_stat)\n",
    "print(\"P-value:\", p_value)\n"
   ]
  },
  {
   "cell_type": "markdown",
   "id": "d70c30c9-0246-462f-8dfe-9f2cac5bd4bf",
   "metadata": {},
   "source": [
    "# Chi-Square Test (Testing relationships between categorical variables)"
   ]
  },
  {
   "cell_type": "code",
   "execution_count": null,
   "id": "24b0d620",
   "metadata": {},
   "outputs": [],
   "source": [
    "# from scipy.stats import chi2_contingency\n",
    "\n",
    "# Create a contingency table between fuel and seller_type\n",
    "contingency_table = pd.crosstab(df1['Fuel'], df1['Seller_Type'])\n",
    "\n",
    "chi2_stat, p_value, dof, expected = chi2_contingency(contingency_table)\n",
    "\n",
    "print(\"Chi-Square Statistic:\", chi2_stat)\n",
    "print(\"P-value:\", p_value)\n"
   ]
  },
  {
   "cell_type": "markdown",
   "id": "0dbdfc50-9798-4295-acb7-f4fbe1f4ffa2",
   "metadata": {},
   "source": [
    "# ANOVA (Analysis of Variance) (Comparing means between more than two groups)"
   ]
  },
  {
   "cell_type": "code",
   "execution_count": 126,
   "id": "16e445ef-f995-400b-9569-cd55e36cbf5c",
   "metadata": {
    "scrolled": true
   },
   "outputs": [
    {
     "name": "stdout",
     "output_type": "stream",
     "text": [
      "               sum_sq      df           F        PR(>F)\n",
      "C(Fuel)    337.082748     3.0  117.305544  2.523405e-74\n",
      "Residual  7568.917252  7902.0         NaN           NaN\n"
     ]
    }
   ],
   "source": [
    "import statsmodels.api as sm\n",
    "from statsmodels.formula.api import ols\n",
    "\n",
    "# Perform one-way ANOVA\n",
    "model = ols('Selling_Price ~ C(Fuel)', data=df1).fit()\n",
    "anova_table = sm.stats.anova_lm(model, typ=2)\n",
    "\n",
    "print(anova_table)\n"
   ]
  },
  {
   "cell_type": "markdown",
   "id": "ac6c2743",
   "metadata": {},
   "source": [
    "# DATA IMPORT "
   ]
  },
  {
   "cell_type": "code",
   "execution_count": 18,
   "id": "ebe54687",
   "metadata": {},
   "outputs": [
    {
     "name": "stdout",
     "output_type": "stream",
     "text": [
      "   Sales_ID                          Name  Year  Selling_Price  km_Driven  \\\n",
      "0         1        Maruti Swift Dzire VDI  2014         450000     145500   \n",
      "1         2  Skoda Rapid 1.5 TDI Ambition  2014         370000     120000   \n",
      "2         3      Honda City 2017-2020 EXi  2006         158000     140000   \n",
      "3         4     Hyundai i20 Sportz Diesel  2010         225000     127000   \n",
      "4         5        Maruti Swift VXI BSIII  2007         130000     120000   \n",
      "\n",
      "  City_Code State_Code  Postal_Code    Fuel Seller_Type Transmission  \\\n",
      "0      CT01       ST15       400001  Diesel  Individual       Manual   \n",
      "1      CT28       ST11       834001  Diesel  Individual       Manual   \n",
      "2      CT12       ST28       201301  Petrol  Individual       Manual   \n",
      "3      CT21       ST27       248001  Diesel  Individual       Manual   \n",
      "4      CT03       ST24       600020  Petrol  Individual       Manual   \n",
      "\n",
      "          Owner     Mileage   Engine   Max_Power  Seats  \n",
      "0   First Owner   23.4 kmpl  1248 CC      74 bhp      5  \n",
      "1  Second Owner  21.14 kmpl  1498 CC  103.52 bhp      5  \n",
      "2   Third Owner   17.7 kmpl  1497 CC      78 bhp      5  \n",
      "3   First Owner   23.0 kmpl  1396 CC      90 bhp      5  \n",
      "4   First Owner   16.1 kmpl  1298 CC    88.2 bhp      5  \n"
     ]
    }
   ],
   "source": [
    "import pandas as pd\n",
    "\n",
    "# Load all data sheets into dataframes\n",
    "#city_master = pd.read_csv('City_Master.csv')\n",
    "#car_sales = pd.read_csv('Car_sales_transactions.csv')\n",
    "postal_code_master = pd.read_csv('Postal_Code_Master.csv')\n",
    "\n",
    "region_master = pd.read_csv('Region_Master.csv')\n",
    "region_state_mapping = pd.read_csv('Region_State_Mapping.csv')\n",
    "sales_status = pd.read_csv('Sales_Status.csv')\n",
    "state_master = pd.read_csv('State_Master.csv')\n",
    "\n",
    "# Preview data\n",
    "print(car_sales.head())\n"
   ]
  },
  {
   "cell_type": "markdown",
   "id": "6fa2836b",
   "metadata": {},
   "source": [
    "# DATAPREPROCESSING "
   ]
  },
  {
   "cell_type": "code",
   "execution_count": 19,
   "id": "80a8f22a",
   "metadata": {},
   "outputs": [
    {
     "name": "stdout",
     "output_type": "stream",
     "text": [
      "Sales_ID         0\n",
      "Name             0\n",
      "Year             0\n",
      "Selling_Price    0\n",
      "km_Driven        0\n",
      "City_Code        0\n",
      "State_Code       0\n",
      "Postal_Code      0\n",
      "Fuel             0\n",
      "Seller_Type      0\n",
      "Transmission     0\n",
      "Owner            0\n",
      "Mileage          0\n",
      "Engine           0\n",
      "Max_Power        0\n",
      "Seats            0\n",
      "dtype: int64\n"
     ]
    }
   ],
   "source": [
    "# Check for missing values\n",
    "print(car_sales.isnull().sum())\n",
    "\n",
    "# Fill or remove missing values if necessary\n",
    "car_sales = car_sales.dropna()\n",
    "\n",
    "# Convert Year to datetime if needed\n",
    "car_sales['Year'] = pd.to_datetime(car_sales['Year'], format='%Y')\n"
   ]
  },
  {
   "cell_type": "markdown",
   "id": "97af8578",
   "metadata": {},
   "source": [
    "# Merging Data Frames"
   ]
  },
  {
   "cell_type": "code",
   "execution_count": 77,
   "id": "394d9e60",
   "metadata": {},
   "outputs": [
    {
     "name": "stdout",
     "output_type": "stream",
     "text": [
      "Sales_ID         0\n",
      "Name             0\n",
      "Year             0\n",
      "Selling_Price    0\n",
      "km_Driven        0\n",
      "City_Code        0\n",
      "State_Code       0\n",
      "Postal_Code      0\n",
      "Fuel             0\n",
      "Seller_Type      0\n",
      "Transmission     0\n",
      "Owner            0\n",
      "Mileage          0\n",
      "Engine           0\n",
      "Max_Power        0\n",
      "Seats            0\n",
      "dtype: int64\n"
     ]
    }
   ],
   "source": [
    "# Check for missing values\n",
    "print(car_sales.isnull().sum())\n",
    "\n",
    "# Fill or remove missing values if necessary\n",
    "car_sales = car_sales.dropna()\n",
    "\n",
    "# Convert Year to datetime if needed\n",
    "car_sales['Year'] = pd.to_datetime(car_sales['Year'], format='%Y')\n"
   ]
  },
  {
   "cell_type": "code",
   "execution_count": 87,
   "id": "10c1716e",
   "metadata": {},
   "outputs": [],
   "source": [
    "import pandas as pd\n",
    "\n",
    "# Load each CSV file into a DataFrame\n",
    "city_master = pd.read_csv('City_Master.csv')\n",
    "car_sales_transactions = pd.read_csv('Car_sales_transactions.csv')\n",
    "postal_code_master = pd.read_csv('Postal_Code_Master.csv')\n",
    "region_master = pd.read_csv('Region_Master.csv')\n",
    "region_state_mapping = pd.read_csv('Region_State_Mapping.csv')\n",
    "sales_status = pd.read_csv('Sales_Status.csv')\n",
    "state_master = pd.read_csv('State_Master.csv')\n",
    "\n",
    "# Merge dataframes based on common columns\n",
    "merged_data = car_sales_transactions \\\n",
    "    .merge(city_master, on='City_Code', how='left') \\\n",
    "    .merge(postal_code_master, on='Postal_Code', how='left') \\\n",
    "    .merge(region_state_mapping, on='State_Code', how='left') \\\n",
    "    .merge(region_master, on='Region_Code', how='left') \\\n",
    "    .merge(state_master, on='State_Code', how='left') \\\n",
    "    .merge(sales_status, on='Sales_ID', how='left')\n",
    "\n",
    "# Save the merged data to a new CSV file\n",
    "merged_data.to_csv('Merged_Car_Sales_Data.csv', index=False)\n"
   ]
  },
  {
   "cell_type": "code",
   "execution_count": 2,
   "id": "0874e3d8",
   "metadata": {},
   "outputs": [],
   "source": [
    "# Import necessary libraries\n",
    "import pandas as pd\n",
    "\n",
    "# Load the CSV file\n",
    "file_path = 'Selected_data.csv'\n",
    "df = pd.read_csv(file_path)\n",
    "\n",
    "# Display the first few rows of the dataset to understand its structure\n",
    "print(\"Original Data:\")\n",
    "print(df.head())\n",
    "\n",
    "# Convert the 'Transmission' column to binary (Manual = 0, Automatic = 1)\n",
    "df['Transmission_binary'] = df['Transmission'].apply(lambda x: 1 if x == 'Automatic' else 0)\n",
    "\n",
    "# Display the updated dataset\n",
    "print(\"\\nData with Binary Transmission Column:\")\n",
    "print(df.head())\n",
    "\n",
    "# Save the updated dataframe back to a CSV if needed\n",
    "df.to_csv('Selected_data_binary.csv', index=False)\n"
   ]
  },
  {
   "cell_type": "code",
   "execution_count": 3,
   "id": "8a1cda6b",
   "metadata": {},
   "outputs": [],
   "source": [
    "# Import necessary libraries\n",
    "import pandas as pd\n",
    "\n",
    "# Load the CSV file with binary 'Transmission' column\n",
    "file_path = 'Selected_data_binary.csv'\n",
    "df = pd.read_csv(file_path)\n",
    "\n",
    "# Display the first few rows of the dataset to understand its structure\n",
    "print(\"Original Data:\")\n",
    "print(df.head())\n",
    "\n",
    "# Create a dictionary to map fuel types to numeric values\n",
    "fuel_mapping = {'CNG': 0, 'Diesel': 1, 'LPG': 2, 'Petrol': 3}\n",
    "\n",
    "# Apply the mapping to the 'Fuel' column\n",
    "df['Fuel_numeric'] = df['Fuel'].map(fuel_mapping)\n",
    "\n",
    "# Display the updated dataset\n",
    "print(\"\\nData with Numeric Fuel Column:\")\n",
    "print(df.head())\n",
    "\n",
    "# Save the updated dataframe back to the CSV file\n",
    "df.to_csv('Selected_data_binary.csv', index=False)\n"
   ]
  },
  {
   "cell_type": "code",
   "execution_count": 9,
   "id": "8e1a7095",
   "metadata": {},
   "outputs": [],
   "source": [
    "# Import necessary libraries\n",
    "import pandas as pd\n",
    "\n",
    "# Load the CSV file with binary 'Transmission' and numeric 'Fuel' columns\n",
    "file_path = 'Selected_data_binary.csv'\n",
    "df = pd.read_csv(file_path)\n",
    "\n",
    "# Display the first few rows of the dataset to understand its structure\n",
    "print(\"Original Data:\")\n",
    "print(df.head())\n",
    "\n",
    "# Create a dictionary to map seller types to numeric values\n",
    "seller_type_mapping = {'Dealer': 0, 'Individual': 1, 'Trustmark Dealer': 2}\n",
    "\n",
    "# Apply the mapping to the 'Seller_type' column\n",
    "df['Seller_type_numeric'] = df['Seller_Type'].map(seller_type_mapping)\n",
    "\n",
    "# Display the updated dataset\n",
    "print(\"\\nData with Numeric Seller_type Column:\")\n",
    "print(df.head())\n",
    "\n",
    "# Save the updated dataframe back to the CSV file\n",
    "df.to_csv('Selected_data_binary.csv', index=False)\n"
   ]
  },
  {
   "cell_type": "code",
   "execution_count": 10,
   "id": "86d3e9ef",
   "metadata": {},
   "outputs": [],
   "source": [
    "# Import necessary libraries\n",
    "import pandas as pd\n",
    "\n",
    "# Load the CSV file with previous modifications\n",
    "file_path = 'Selected_data_binary.csv'\n",
    "df = pd.read_csv(file_path)\n",
    "\n",
    "# Display the first few rows of the dataset to understand its structure\n",
    "print(\"Original Data:\")\n",
    "print(df.head())\n",
    "\n",
    "# Create a dictionary to map owner types to numeric values, with 'Test Drive Car' as 0\n",
    "owner_mapping = {\n",
    "    'Test Drive Car': 0,\n",
    "    'First Owner': 1,\n",
    "    'Second Owner': 2,\n",
    "    'Third Owner': 3,\n",
    "    'Fourth & Above Owner': 4\n",
    "}\n",
    "\n",
    "# Apply the mapping to the 'Owner' column\n",
    "df['Owner_numeric'] = df['Owner'].map(owner_mapping)\n",
    "\n",
    "# Display the updated dataset\n",
    "print(\"\\nData with Numeric Owner Column:\")\n",
    "print(df.head())\n",
    "\n",
    "# Save the updated dataframe back to the CSV file\n",
    "df.to_csv('Selected_data_binary.csv', index=False)\n"
   ]
  },
  {
   "cell_type": "markdown",
   "id": "e55bee35",
   "metadata": {},
   "source": [
    "# Train Test Splitting"
   ]
  },
  {
   "cell_type": "code",
   "execution_count": 20,
   "id": "fb615b53",
   "metadata": {},
   "outputs": [
    {
     "name": "stdout",
     "output_type": "stream",
     "text": [
      "Cleaned Data:\n",
      "                           Name  Year  Selling_Price  km_Driven  Mileage  \\\n",
      "0        Maruti Swift Dzire VDI  2014         450000     145500    23.40   \n",
      "1  Skoda Rapid 1.5 TDI Ambition  2014         370000     120000    21.14   \n",
      "2      Honda City 2017-2020 EXi  2006         158000     140000    17.70   \n",
      "3     Hyundai i20 Sportz Diesel  2010         225000     127000    23.00   \n",
      "4        Maruti Swift VXI BSIII  2007         130000     120000    16.10   \n",
      "\n",
      "   Engine  Max_Power  Seats  Transmission_binary  Fuel_numeric  \\\n",
      "0    1248      74.00      5                    0             1   \n",
      "1    1498     103.52      5                    0             1   \n",
      "2    1497      78.00      5                    0             3   \n",
      "3    1396      90.00      5                    0             1   \n",
      "4    1298      88.20      5                    0             3   \n",
      "\n",
      "   Seller_type_numeric  Owner_numeric  \n",
      "0                    1              1  \n",
      "1                    1              2  \n",
      "2                    1              3  \n",
      "3                    1              1  \n",
      "4                    1              1  \n",
      "Training set shape: (6324, 10), (6324,)\n",
      "Test set shape: (1582, 10), (1582,)\n"
     ]
    }
   ],
   "source": [
    "# Import necessary libraries\n",
    "import pandas as pd\n",
    "from sklearn.model_selection import train_test_split\n",
    "\n",
    "# Load the cleaned dataset\n",
    "file_path = 'Selected_data_binary.csv'\n",
    "df = pd.read_csv(file_path)\n",
    "\n",
    "# Display the first few rows of the dataset\n",
    "print(\"Cleaned Data:\")\n",
    "print(df.head())\n",
    "\n",
    "# Define the feature columns and target variable (assuming Selling_Price is the target)\n",
    "X = df[['Year', 'km_Driven', 'Mileage', 'Engine', 'Max_Power', 'Seats', \n",
    "        'Transmission_binary', 'Fuel_numeric', 'Seller_type_numeric', 'Owner_numeric']]\n",
    "y = df['Selling_Price']\n",
    "\n",
    "# Split the data into training and testing sets (80% train, 20% test)\n",
    "X_train, X_test, y_train, y_test = train_test_split(X, y, test_size=0.2, random_state=42)\n",
    "\n",
    "# Display the shapes of the train and test sets\n",
    "print(f\"Training set shape: {X_train.shape}, {y_train.shape}\")\n",
    "print(f\"Test set shape: {X_test.shape}, {y_test.shape}\")\n"
   ]
  },
  {
   "cell_type": "markdown",
   "id": "a8281bf8",
   "metadata": {},
   "source": [
    "# Linear Regression Model "
   ]
  },
  {
   "cell_type": "code",
   "execution_count": 21,
   "id": "a1d11dce",
   "metadata": {},
   "outputs": [
    {
     "name": "stdout",
     "output_type": "stream",
     "text": [
      "Mean Squared Error: 212765743242.35666\n",
      "R-Squared: 0.6939868645791702\n",
      "Coefficients: [ 3.23691521e+04 -1.43706121e+00  9.97516999e+03  8.90315327e+01\n",
      "  1.23759217e+04 -3.36637785e+04  4.75275958e+05 -3.24021869e+04\n",
      " -2.05489570e+05 -2.47037567e+04]\n",
      "Intercept: -65500156.530487016\n"
     ]
    }
   ],
   "source": [
    "# Import necessary libraries\n",
    "from sklearn.linear_model import LinearRegression\n",
    "from sklearn.metrics import mean_squared_error, r2_score\n",
    "\n",
    "# Initialize the Linear Regression model\n",
    "lr_model = LinearRegression()\n",
    "\n",
    "# Train the model on the training data\n",
    "lr_model.fit(X_train, y_train)\n",
    "\n",
    "# Make predictions on the test data\n",
    "y_pred = lr_model.predict(X_test)\n",
    "\n",
    "# Evaluate the model\n",
    "mse = mean_squared_error(y_test, y_pred)\n",
    "r2 = r2_score(y_test, y_pred)\n",
    "\n",
    "# Output the evaluation metrics\n",
    "print(f\"Mean Squared Error: {mse}\")\n",
    "print(f\"R-Squared: {r2}\")\n",
    "\n",
    "# Optional: Output the coefficients and intercept of the model\n",
    "print(f\"Coefficients: {lr_model.coef_}\")\n",
    "print(f\"Intercept: {lr_model.intercept_}\")\n"
   ]
  },
  {
   "cell_type": "code",
   "execution_count": 23,
   "id": "2ecf663e",
   "metadata": {},
   "outputs": [
    {
     "name": "stdout",
     "output_type": "stream",
     "text": [
      "==================================================\n",
      "            Model Performance Metrics             \n",
      "==================================================\n",
      "Mean Squared Error: 212772851877.53\n",
      "R-Squared (Accuracy): 0.6940\n",
      "--------------------------------------------------\n",
      "                Model Coefficients                \n",
      "==================================================\n",
      "Year                : 125783.3872\n",
      "km_Driven           : -74571.8541\n",
      "Mileage             : 40610.6587\n",
      "Engine              : 45204.8494\n",
      "Max_Power           : 443218.0393\n",
      "Seats               : -32443.2129\n",
      "Transmission_binary : 160587.2852\n",
      "Fuel_numeric        : -32388.3391\n",
      "Seller_type_numeric : -81227.2219\n",
      "Owner_numeric       : -17387.3987\n",
      "==================================================\n",
      "Intercept: 650379.9545\n",
      "==================================================\n"
     ]
    }
   ],
   "source": [
    "# Import necessary libraries\n",
    "from sklearn.preprocessing import StandardScaler\n",
    "from sklearn.linear_model import Ridge\n",
    "from sklearn.metrics import mean_squared_error, r2_score\n",
    "\n",
    "# Scale the features\n",
    "scaler = StandardScaler()\n",
    "X_train_scaled = scaler.fit_transform(X_train)\n",
    "X_test_scaled = scaler.transform(X_test)\n",
    "\n",
    "# Initialize the Ridge Regression model with regularization parameter (alpha)\n",
    "ridge_model = Ridge(alpha=1.0)\n",
    "\n",
    "# Train the Ridge model on the scaled training data\n",
    "ridge_model.fit(X_train_scaled, y_train)\n",
    "\n",
    "# Make predictions on the test data\n",
    "y_pred_ridge = ridge_model.predict(X_test_scaled)\n",
    "\n",
    "# Evaluate the Ridge model\n",
    "mse_ridge = mean_squared_error(y_test, y_pred_ridge)\n",
    "r2_ridge = r2_score(y_test, y_pred_ridge)\n",
    "coefficients = ridge_model.coef_\n",
    "intercept = ridge_model.intercept_\n",
    "\n",
    "# Print the results in a formatted manner\n",
    "print(\"=\"*50)\n",
    "print(f\"{'Model Performance Metrics':^50}\")\n",
    "print(\"=\"*50)\n",
    "print(f\"Mean Squared Error: {mse_ridge:.2f}\")\n",
    "print(f\"R-Squared (Accuracy): {r2_ridge:.4f}\")\n",
    "print(\"-\"*50)\n",
    "\n",
    "print(f\"{'Model Coefficients':^50}\")\n",
    "print(\"=\"*50)\n",
    "for idx, coef in enumerate(coefficients):\n",
    "    feature_name = X.columns[idx]\n",
    "    print(f\"{feature_name:<20}: {coef:.4f}\")\n",
    "print(\"=\"*50)\n",
    "\n",
    "print(f\"Intercept: {intercept:.4f}\")\n",
    "print(\"=\"*50)\n"
   ]
  },
  {
   "cell_type": "code",
   "execution_count": null,
   "id": "9f3e8773",
   "metadata": {},
   "outputs": [],
   "source": []
  }
 ],
 "metadata": {
  "kernelspec": {
   "display_name": "Python 3 (ipykernel)",
   "language": "python",
   "name": "python3"
  },
  "language_info": {
   "codemirror_mode": {
    "name": "ipython",
    "version": 3
   },
   "file_extension": ".py",
   "mimetype": "text/x-python",
   "name": "python",
   "nbconvert_exporter": "python",
   "pygments_lexer": "ipython3",
   "version": "3.11.3"
  }
 },
 "nbformat": 4,
 "nbformat_minor": 5
}
